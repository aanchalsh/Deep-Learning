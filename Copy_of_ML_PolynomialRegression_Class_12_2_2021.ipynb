{
  "nbformat": 4,
  "nbformat_minor": 0,
  "metadata": {
    "colab": {
      "name": "Copy of ML PolynomialRegression Class 12/2/2021.ipynb",
      "provenance": [],
      "collapsed_sections": [],
      "authorship_tag": "ABX9TyNiDEvOD+XQJPpk6twuDXYK",
      "include_colab_link": true
    },
    "kernelspec": {
      "name": "python3",
      "display_name": "Python 3"
    },
    "language_info": {
      "name": "python"
    }
  },
  "cells": [
    {
      "cell_type": "markdown",
      "metadata": {
        "id": "view-in-github",
        "colab_type": "text"
      },
      "source": [
        "<a href=\"https://colab.research.google.com/github/aanchalsh/Deep-Learning/blob/main/Copy_of_ML_PolynomialRegression_Class_12_2_2021.ipynb\" target=\"_parent\"><img src=\"https://colab.research.google.com/assets/colab-badge.svg\" alt=\"Open In Colab\"/></a>"
      ]
    },
    {
      "cell_type": "code",
      "metadata": {
        "id": "2vmP4E9bX9hi"
      },
      "source": [
        "import numpy as np\n",
        "import pandas as pd"
      ],
      "execution_count": null,
      "outputs": []
    },
    {
      "cell_type": "code",
      "metadata": {
        "id": "UO9fhwg2ZChM"
      },
      "source": [
        "dataset=pd.read_csv(\"/content/Position_Salaries.csv\")\n",
        "X=dataset.iloc[:, 1:-1].values\n",
        "Y=dataset.iloc[:, -1].values"
      ],
      "execution_count": null,
      "outputs": []
    },
    {
      "cell_type": "code",
      "metadata": {
        "colab": {
          "base_uri": "https://localhost:8080/"
        },
        "id": "7ViA3fh5Zg3X",
        "outputId": "57924bad-c739-46be-a05e-8f1fee6cfffc"
      },
      "source": [
        "from sklearn.model_selection import train_test_split\n",
        "X_train,X_test,Y_train,Y_test=train_test_split(X,Y,test_size=1/3,random_state=0)\n",
        "print(X_train)\n",
        "print(X_test)"
      ],
      "execution_count": null,
      "outputs": [
        {
          "output_type": "stream",
          "name": "stdout",
          "text": [
            "[[2]\n",
            " [7]\n",
            " [8]\n",
            " [4]\n",
            " [1]\n",
            " [6]]\n",
            "[[ 3]\n",
            " [ 9]\n",
            " [ 5]\n",
            " [10]]\n"
          ]
        }
      ]
    },
    {
      "cell_type": "code",
      "metadata": {
        "colab": {
          "base_uri": "https://localhost:8080/"
        },
        "id": "f1XIzukSa8f_",
        "outputId": "e8d249e6-ff37-4934-bcd9-4ffad64fe63d"
      },
      "source": [
        "from sklearn.linear_model import LinearRegression\n",
        "lin_reg=LinearRegression()\n",
        "lin_reg.fit(X_train,Y_train)\n"
      ],
      "execution_count": null,
      "outputs": [
        {
          "output_type": "execute_result",
          "data": {
            "text/plain": [
              "LinearRegression()"
            ]
          },
          "metadata": {},
          "execution_count": 11
        }
      ]
    },
    {
      "cell_type": "code",
      "metadata": {
        "colab": {
          "base_uri": "https://localhost:8080/",
          "height": 295
        },
        "id": "6s0AFOF9bPR_",
        "outputId": "ca516531-dcb3-451b-db40-fac2b25a1543"
      },
      "source": [
        "import matplotlib.pyplot as plt\n",
        "plt.scatter(X,Y,color='pink')\n",
        "plt.plot(X,lin_reg.predict(X), color='blue')\n",
        "plt.title('Truth or Bluff in Linear Regression')\n",
        "plt.ylabel('Salary')\n",
        "plt.xlabel('Position label')\n",
        "plt.show()\n"
      ],
      "execution_count": null,
      "outputs": [
        {
          "output_type": "display_data",
          "data": {
            "image/png": "[encoded data removed]",
            "text/plain": [
              "<Figure size 432x288 with 1 Axes>"
            ]
          },
          "metadata": {
            "needs_background": "light"
          }
        }
      ]
    },
    {
      "cell_type": "markdown",
      "metadata": {
        "id": "fEFaT0QCdYvt"
      },
      "source": [
        "Training the Polynomial Regression Model"
      ]
    },
    {
      "cell_type": "code",
      "metadata": {
        "colab": {
          "base_uri": "https://localhost:8080/"
        },
        "id": "2qv65iyYdU8M",
        "outputId": "d8e892b0-6a6a-408c-ab48-5906f769b5f3"
      },
      "source": [
        "from sklearn.preprocessing import PolynomialFeatures\n",
        "poly_reg=PolynomialFeatures(degree=4, include_bias=False)\n",
        "X_train_trans=poly_reg.fit_transform(X_train)\n",
        "X_test_trans=poly_reg.fit_transform(X_test)\n",
        "print(X_train_trans[0])\n",
        "print(X_train[0])"
      ],
      "execution_count": null,
      "outputs": [
        {
          "output_type": "stream",
          "name": "stdout",
          "text": [
            "[ 2.  4.  8. 16.]\n",
            "[2]\n"
          ]
        }
      ]
    },
    {
      "cell_type": "code",
      "metadata": {
        "colab": {
          "base_uri": "https://localhost:8080/"
        },
        "id": "eeOOXoPPeIAY",
        "outputId": "63955599-6939-47d3-f497-ad74d48f0046"
      },
      "source": [
        "lin_reg_2=LinearRegression()\n",
        "lin_reg_2.fit(X_train,Y_train)"
      ],
      "execution_count": null,
      "outputs": [
        {
          "output_type": "execute_result",
          "data": {
            "text/plain": [
              "LinearRegression()"
            ]
          },
          "metadata": {},
          "execution_count": 23
        }
      ]
    }
  ]
}